{
 "cells": [
  {
   "cell_type": "code",
   "execution_count": 5,
   "metadata": {},
   "outputs": [],
   "source": [
    "# Import dependencies\n",
    "import pandas as pd\n",
    "from sqlalchemy import create_engine, Column, Integer, String, Float, inspect\n",
    "from sqlalchemy.ext.declarative import declarative_base\n",
    "from sqlalchemy.orm import Session\n",
    "Base = declarative_base()"
   ]
  },
  {
   "cell_type": "code",
   "execution_count": 6,
   "metadata": {},
   "outputs": [],
   "source": [
    "# Create Engine and Pass in MySQL Connection\n",
    "engine = create_engine(\"sqlite:///belly_button_biodiversity.sqlite\")\n",
    "conn = engine.connect()"
   ]
  },
  {
   "cell_type": "code",
   "execution_count": 7,
   "metadata": {},
   "outputs": [
    {
     "data": {
      "text/plain": [
       "['otu', 'samples', 'samples_metadata']"
      ]
     },
     "execution_count": 7,
     "metadata": {},
     "output_type": "execute_result"
    }
   ],
   "source": [
    "inspector = inspect(engine)\n",
    "inspector.get_table_names()"
   ]
  },
  {
   "cell_type": "code",
   "execution_count": 10,
   "metadata": {},
   "outputs": [
    {
     "name": "stdout",
     "output_type": "stream",
     "text": [
      "SAMPLEID INTEGER\n",
      "EVENT TEXT\n",
      "ETHNICITY TEXT\n",
      "GENDER TEXT\n",
      "AGE INTEGER\n",
      "WFREQ INTEGER\n",
      "BBTYPE TEXT\n",
      "LOCATION TEXT\n",
      "COUNTRY012 TEXT\n",
      "ZIP012 INTEGER\n",
      "COUNTRY1319 TEXT\n",
      "ZIP1319 INTEGER\n",
      "DOG TEXT\n",
      "CAT TEXT\n",
      "IMPSURFACE013 INTEGER\n",
      "NPP013 FLOAT\n",
      "MMAXTEMP013 FLOAT\n",
      "PFC013 FLOAT\n",
      "IMPSURFACE1319 INTEGER\n",
      "NPP1319 FLOAT\n",
      "MMAXTEMP1319 FLOAT\n",
      "PFC1319 FLOAT\n"
     ]
    }
   ],
   "source": [
    "columns = inspector.get_columns('samples_metadata')\n",
    "for c in columns:\n",
    "    print(c['name'], c[\"type\"])"
   ]
  },
  {
   "cell_type": "code",
   "execution_count": null,
   "metadata": {},
   "outputs": [],
   "source": [
    "# Declare file paths\n",
    "metadata = \"Belly_Button_Biodiversity_Metadata.csv\"\n",
    "otu_id = \"belly_button_biodiversity_otu_id.csv\"\n",
    "samples = \"belly_button_biodiversity_samples.csv\""
   ]
  },
  {
   "cell_type": "code",
   "execution_count": null,
   "metadata": {},
   "outputs": [],
   "source": [
    "metadata_df = pd.read_csv(metadata)\n",
    "otu_df = pd.read_csv(otu_id)\n",
    "sample_df = pd.read_csv(samples)"
   ]
  },
  {
   "cell_type": "code",
   "execution_count": null,
   "metadata": {},
   "outputs": [],
   "source": [
    "metadata_df.head()"
   ]
  },
  {
   "cell_type": "code",
   "execution_count": null,
   "metadata": {},
   "outputs": [],
   "source": [
    "metadata_df.dtypes.index"
   ]
  },
  {
   "cell_type": "code",
   "execution_count": null,
   "metadata": {},
   "outputs": [],
   "source": [
    "json_dict = {\n",
    "    \"AGE\": metadata_df[\"AGE\"],\n",
    "    \"BBTYPE\": metadata_df[\"BBTYPE\"],\n",
    "    \"ETHNICITY\": metadata_df[\"ETHNICITY\"],\n",
    "    \"GENDER\": metadata_df[\"GENDER\"],\n",
    "    \"LOCATION\": metadata_df[\"LOCATION\"],\n",
    "    \"SAMPLEID\": metadata_df[\"SAMPLEID\"]\n",
    "}"
   ]
  },
  {
   "cell_type": "code",
   "execution_count": null,
   "metadata": {},
   "outputs": [],
   "source": [
    "otu_df.head()"
   ]
  },
  {
   "cell_type": "code",
   "execution_count": null,
   "metadata": {
    "scrolled": true
   },
   "outputs": [],
   "source": [
    "sample_df.head()"
   ]
  },
  {
   "cell_type": "code",
   "execution_count": null,
   "metadata": {},
   "outputs": [],
   "source": [
    "names = list(sample_df)\n",
    "del names[0]\n",
    "names"
   ]
  },
  {
   "cell_type": "code",
   "execution_count": null,
   "metadata": {},
   "outputs": [],
   "source": [
    "otu_desc = []\n",
    "\n",
    "for index, row in otu_df.iterrows():\n",
    "    otu_desc.append(row['lowest_taxonomic_unit_found'])\n",
    "    \n",
    "otu_desc"
   ]
  },
  {
   "cell_type": "code",
   "execution_count": null,
   "metadata": {},
   "outputs": [],
   "source": []
  }
 ],
 "metadata": {
  "kernelspec": {
   "display_name": "Python [conda env:PythonData]",
   "language": "python",
   "name": "conda-env-PythonData-py"
  },
  "language_info": {
   "codemirror_mode": {
    "name": "ipython",
    "version": 3
   },
   "file_extension": ".py",
   "mimetype": "text/x-python",
   "name": "python",
   "nbconvert_exporter": "python",
   "pygments_lexer": "ipython3",
   "version": "3.6.4"
  }
 },
 "nbformat": 4,
 "nbformat_minor": 2
}
